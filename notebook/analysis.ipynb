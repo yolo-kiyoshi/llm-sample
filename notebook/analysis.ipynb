{
 "cells": [
  {
   "cell_type": "markdown",
   "id": "296a38e7-9cfd-4db0-8b33-6b6880e1a62c",
   "metadata": {},
   "source": [
    "## input PDF"
   ]
  },
  {
   "cell_type": "code",
   "execution_count": null,
   "id": "41f43ceb-8c7c-4d22-9c8c-8935381b9a8d",
   "metadata": {},
   "outputs": [],
   "source": [
    "from langchain.document_loaders import PyMuPDFLoader\n",
    "from langchain.text_splitter import SpacyTextSplitter"
   ]
  },
  {
   "cell_type": "code",
   "execution_count": null,
   "id": "297ef1c3-cff4-4dbf-9190-7f6d4b0959a0",
   "metadata": {},
   "outputs": [],
   "source": [
    "loader = PyMuPDFLoader(\"../data/sample.pdf\")\n",
    "documents = loader.load()"
   ]
  },
  {
   "cell_type": "code",
   "execution_count": null,
   "id": "3da466c0-48b9-4464-b428-1fa40681faa6",
   "metadata": {},
   "outputs": [],
   "source": [
    "len(documents)"
   ]
  },
  {
   "cell_type": "code",
   "execution_count": null,
   "id": "84d67d96-4426-4f3c-86c3-4f285143a46e",
   "metadata": {},
   "outputs": [],
   "source": [
    "text_splitter = SpacyTextSplitter(chunk_size=1000, pipeline=\"ja_core_news_sm\")\n",
    "split_documents = text_splitter.split_documents(documents)"
   ]
  },
  {
   "cell_type": "code",
   "execution_count": null,
   "id": "894ba35f-a129-4510-bd72-393ffe49dc7a",
   "metadata": {},
   "outputs": [],
   "source": [
    "print(len(split_documents))\n",
    "split_documents[0]"
   ]
  },
  {
   "cell_type": "markdown",
   "id": "8274800d-a438-4e6f-a6c1-fb4d7e106807",
   "metadata": {},
   "source": [
    "## store vectore"
   ]
  },
  {
   "cell_type": "code",
   "execution_count": null,
   "id": "ca611a1c-7797-4ac4-b2c5-d62ba9bd2685",
   "metadata": {},
   "outputs": [],
   "source": [
    "from langchain.embeddings import OpenAIEmbeddings\n",
    "import chromadb\n",
    "from chromadb.config import Settings\n",
    "from langchain.vectorstores import Chroma"
   ]
  },
  {
   "cell_type": "code",
   "execution_count": null,
   "id": "83af909e-fba1-4100-8697-28498bc2340b",
   "metadata": {},
   "outputs": [],
   "source": [
    "embeddings = OpenAIEmbeddings(\n",
    "    model=\"text-embedding-ada-002\"\n",
    ")\n",
    "\n",
    "client = chromadb.HttpClient(\n",
    "    host=\"chromadb\",\n",
    "    port=8000,\n",
    "    settings=Settings(allow_reset=True, anonymized_telemetry=False),\n",
    ")"
   ]
  },
  {
   "cell_type": "code",
   "execution_count": null,
   "id": "b6e165f9-048a-4d2b-88c9-7ad611eea6e6",
   "metadata": {},
   "outputs": [],
   "source": [
    "# 新しいDBの作成\n",
    "db = Chroma(\n",
    "    collection_name=\"langchain_store\",\n",
    "    embedding_function=embeddings,\n",
    "    client=client,\n",
    ")\n",
    "db.add_documents(documents=documents, embedding=embeddings)"
   ]
  },
  {
   "cell_type": "markdown",
   "id": "137ffe39-9c15-49b2-b603-5abd2470a8f2",
   "metadata": {},
   "source": [
    "## RAG"
   ]
  },
  {
   "cell_type": "code",
   "execution_count": null,
   "id": "edbc8402-0c34-4895-829d-7e94b9e5ac88",
   "metadata": {},
   "outputs": [],
   "source": [
    "from langchain_openai import ChatOpenAI\n",
    "\n",
    "llm = ChatOpenAI(model=\"gpt-4o-mini\")"
   ]
  },
  {
   "cell_type": "code",
   "execution_count": null,
   "id": "0f0be835-6222-46b1-bc11-7cbc53bd374c",
   "metadata": {},
   "outputs": [],
   "source": [
    "from langchain_core.output_parsers import StrOutputParser\n",
    "from langchain_core.runnables import RunnablePassthrough\n",
    "output_parser = StrOutputParser()"
   ]
  },
  {
   "cell_type": "code",
   "execution_count": null,
   "id": "66044413-9447-4fc3-bbe0-7dec00eabd83",
   "metadata": {},
   "outputs": [],
   "source": [
    "retriever = db.as_retriever()"
   ]
  },
  {
   "cell_type": "code",
   "execution_count": null,
   "id": "f83406f3-4828-4c44-af29-6453597b0668",
   "metadata": {},
   "outputs": [],
   "source": [
    "from langchain_core.prompts import ChatPromptTemplate\n",
    "\n",
    "template = \"\"\"次の文脈（context）のみに基づいて質問（question）に答えてください。:\n",
    "{context}\n",
    "\n",
    "質問: {question}\n",
    "\"\"\"\n",
    "prompt = ChatPromptTemplate.from_template(template)"
   ]
  },
  {
   "cell_type": "code",
   "execution_count": null,
   "id": "1024a923-31d9-49c1-89e9-981ceeec3a73",
   "metadata": {},
   "outputs": [],
   "source": [
    "# LCELによるチェーンの作成と結果の取得\n",
    "chain = (\n",
    "    {\"context\": retriever, \"question\": RunnablePassthrough()}\n",
    "    | prompt\n",
    "    | llm\n",
    "    | output_parser\n",
    ")"
   ]
  },
  {
   "cell_type": "code",
   "execution_count": null,
   "id": "78e959db-b516-4162-b355-592fc2127a43",
   "metadata": {},
   "outputs": [],
   "source": [
    "query = \"\"\n",
    "result = chain.invoke(query)\n",
    "print(result)\n",
    "# query_vector = embeddings.embed_query(query)"
   ]
  },
  {
   "cell_type": "code",
   "execution_count": null,
   "id": "d44d17db-beaa-44d5-bc9f-99e97f519685",
   "metadata": {},
   "outputs": [],
   "source": [
    "# searched_documents = db.similarity_search_by_vector(query_vector)"
   ]
  },
  {
   "cell_type": "code",
   "execution_count": null,
   "id": "ed532af1-0bba-48ee-a837-dcc9a3acb12b",
   "metadata": {},
   "outputs": [],
   "source": [
    "# for searched_document in searched_documents:\n",
    "#     print(searched_document.page_content)"
   ]
  },
  {
   "cell_type": "code",
   "execution_count": null,
   "id": "94927848-24ba-4f32-81a4-4b7011db5903",
   "metadata": {},
   "outputs": [],
   "source": []
  },
  {
   "cell_type": "code",
   "execution_count": null,
   "id": "1b8d9b31-3082-49f1-b749-751dc416b013",
   "metadata": {},
   "outputs": [],
   "source": []
  }
 ],
 "metadata": {
  "kernelspec": {
   "display_name": "Python 3 (ipykernel)",
   "language": "python",
   "name": "python3"
  },
  "language_info": {
   "codemirror_mode": {
    "name": "ipython",
    "version": 3
   },
   "file_extension": ".py",
   "mimetype": "text/x-python",
   "name": "python",
   "nbconvert_exporter": "python",
   "pygments_lexer": "ipython3",
   "version": "3.12.4"
  }
 },
 "nbformat": 4,
 "nbformat_minor": 5
}
